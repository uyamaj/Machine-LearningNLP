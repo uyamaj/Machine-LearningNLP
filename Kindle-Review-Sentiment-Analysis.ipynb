{
 "cells": [
  {
   "cell_type": "code",
   "execution_count": 1,
   "id": "8d9e262f-c742-46a3-ab5c-0107f0503878",
   "metadata": {},
   "outputs": [],
   "source": [
    "import pandas as pd\n",
    "from sklearn.feature_extraction.text import TfidfVectorizer\n",
    "import matplotlib.pyplot as plt\n",
    "from wordcloud import WordCloud\n",
    "import warnings\n",
    "warnings.filterwarnings(\"ignore\")"
   ]
  },
  {
   "cell_type": "code",
   "execution_count": null,
   "id": "3ff7f951-58a0-4710-b99b-d4e9e43791d3",
   "metadata": {},
   "outputs": [],
   "source": [
    "# load the dataset\n",
    "import pandas as pd\n",
    "df=pd.read_csv(\"all_kindle_review.csv\")\n",
    "df"
   ]
  },
  {
   "cell_type": "code",
   "execution_count": null,
   "id": "5d13c189-0229-4b28-9439-8f09d9d8b76e",
   "metadata": {},
   "outputs": [],
   "source": [
    "df.columns"
   ]
  },
  {
   "cell_type": "code",
   "execution_count": null,
   "id": "7ae0583d-4582-4664-bb7e-84b3e836daf4",
   "metadata": {},
   "outputs": [],
   "source": [
    "df=df[[\"reviewText\", \"rating\"]]\n",
    "df.head()"
   ]
  },
  {
   "cell_type": "code",
   "execution_count": null,
   "id": "78c5f16a-4b43-4735-8234-2a367babcfa4",
   "metadata": {},
   "outputs": [],
   "source": [
    "df.shape"
   ]
  },
  {
   "cell_type": "code",
   "execution_count": null,
   "id": "84a72f6c-a895-4fa1-9a08-9bd57d741925",
   "metadata": {},
   "outputs": [],
   "source": [
    "#check for missing values\n",
    "df.isnull().sum()"
   ]
  },
  {
   "cell_type": "code",
   "execution_count": null,
   "id": "82aa6a49-84f7-44cc-b47f-4bc13e9b660e",
   "metadata": {},
   "outputs": [],
   "source": [
    "df[\"rating\"].unique()"
   ]
  },
  {
   "cell_type": "code",
   "execution_count": null,
   "id": "aab276f8-ed27-4142-927b-92c8edfc3a21",
   "metadata": {},
   "outputs": [],
   "source": [
    "df[\"rating\"].value_counts()"
   ]
  },
  {
   "cell_type": "code",
   "execution_count": null,
   "id": "960d7de4-dad7-4240-9e06-d607c3acaeb4",
   "metadata": {},
   "outputs": [],
   "source": [
    "#Preprocessing and cleaning"
   ]
  },
  {
   "cell_type": "code",
   "execution_count": null,
   "id": "b561655b-83c4-45d9-a8af-28304ef90f08",
   "metadata": {},
   "outputs": [],
   "source": [
    "#positive review is 1 and negative review is 0\n",
    "\n",
    "df.loc[df[\"rating\"]<=3,\"rating\"] = 0\n",
    "df.loc[df[\"rating\"]>=3,\"rating\"] = 1\n",
    "# df.loc[:, \"rating\"] = df[\"rating\"].apply(lambda x: 0 if x < 3 else 1)"
   ]
  },
  {
   "cell_type": "code",
   "execution_count": null,
   "id": "945196e9-4710-4710-8870-3923c8866daf",
   "metadata": {},
   "outputs": [],
   "source": [
    "df.head()"
   ]
  },
  {
   "cell_type": "code",
   "execution_count": null,
   "id": "d67da58a-b204-42a9-aea6-2a109d5ca1b3",
   "metadata": {},
   "outputs": [],
   "source": [
    "df[\"rating\"].unique()"
   ]
  },
  {
   "cell_type": "code",
   "execution_count": null,
   "id": "0c374b2d-cf80-4bda-ab59-9203b1a00722",
   "metadata": {},
   "outputs": [],
   "source": [
    "# to check how many counts are there for positive and negative sentiments\n",
    "df[\"rating\"].value_counts()"
   ]
  },
  {
   "cell_type": "code",
   "execution_count": null,
   "id": "b49fda1c-0218-4443-8238-765b8bf08f7d",
   "metadata": {},
   "outputs": [],
   "source": [
    "## lower all the cases \n",
    "df[\"reviewText\"].str.lower()"
   ]
  },
  {
   "cell_type": "code",
   "execution_count": null,
   "id": "68b282f1-fba8-4939-bbee-141a84b8176b",
   "metadata": {},
   "outputs": [],
   "source": [
    "df.loc[:, \"reviewText\"] = df[\"reviewText\"].str.lower()"
   ]
  },
  {
   "cell_type": "code",
   "execution_count": null,
   "id": "cfb0033c-9458-4b46-b662-945c14ea94de",
   "metadata": {},
   "outputs": [],
   "source": [
    "df.head()"
   ]
  },
  {
   "cell_type": "markdown",
   "id": "eed57ec0-db64-4917-adb9-632338162b29",
   "metadata": {},
   "source": [
    "### Cleaning the data\n"
   ]
  },
  {
   "cell_type": "code",
   "execution_count": null,
   "id": "a38d9d9d-b029-4080-83db-fe1bec99555b",
   "metadata": {},
   "outputs": [],
   "source": [
    "import nltk\n",
    "from nltk.corpus import stopwords\n",
    "import re\n",
    "from bs4 import BeautifulSoup\n",
    "nltk.download(\"stopwords\")"
   ]
  },
  {
   "cell_type": "code",
   "execution_count": null,
   "id": "f26eb591-7a1c-4d52-a2a0-d290d6ed4e26",
   "metadata": {},
   "outputs": [],
   "source": [
    "# Function to clean review text\n",
    "def clean_text(text):\n",
    "    # Remove special characters\n",
    "    text = re.sub('[^a-zA-Z0-9-]+', ' ', text)\n",
    "    # Remove URLs\n",
    "    text = re.sub(r'(http|https|ftp|ssh)://\\S+', '', text)\n",
    "    # Remove HTML tags\n",
    "    text = BeautifulSoup(text, 'lxml').get_text()\n",
    "    # Remove stopwords\n",
    "    text = \" \".join([word for word in text.split() if word.lower() not in stopwords.words('english')])\n",
    "    # Remove any additional spaces\n",
    "    text = \" \".join(text.split())\n",
    "    \n",
    "    return text\n",
    "\n",
    "# Apply the function to the reviewText column\n",
    "df['reviewText'] = df['reviewText'].apply(clean_text)\n"
   ]
  },
  {
   "cell_type": "code",
   "execution_count": null,
   "id": "c64cb4c8-a0c7-42e5-8104-f9c8b5134d63",
   "metadata": {},
   "outputs": [],
   "source": [
    "df.head()"
   ]
  },
  {
   "cell_type": "code",
   "execution_count": null,
   "id": "ca5a9e6d-f2c4-49a7-8b60-9d7e791ba05f",
   "metadata": {},
   "outputs": [],
   "source": []
  },
  {
   "cell_type": "code",
   "execution_count": null,
   "id": "007718ea-c180-416d-aade-8df19026dc5f",
   "metadata": {},
   "outputs": [],
   "source": [
    "##lemmatizer\n",
    "from nltk.stem import WordNetLemmatizer"
   ]
  },
  {
   "cell_type": "code",
   "execution_count": null,
   "id": "2e7fcb2e-6b32-4a50-a018-232e4a759ef2",
   "metadata": {},
   "outputs": [],
   "source": [
    "lemmatizer=WordNetLemmatizer()"
   ]
  },
  {
   "cell_type": "code",
   "execution_count": null,
   "id": "e1a2c2f1-c870-42c5-a839-d43fb9f88cbd",
   "metadata": {},
   "outputs": [],
   "source": [
    "def lemmatize_words(text):\n",
    "    return \" \".join([lemmatizer.lemmatize(word)for word in text.split()])\n",
    "df.loc[:,'reviewText'] = df['reviewText'].apply(lemmatize_words)   "
   ]
  },
  {
   "cell_type": "code",
   "execution_count": null,
   "id": "dc206bc5-da0b-4bc3-9195-9a4a0939acc3",
   "metadata": {},
   "outputs": [],
   "source": [
    "df.head()"
   ]
  },
  {
   "cell_type": "code",
   "execution_count": null,
   "id": "eb7fc96f-b0bc-4cbf-8877-d1f792c80892",
   "metadata": {},
   "outputs": [],
   "source": [
    "consolidated=' '.join(word for word in df['rating'][df['reviewText']==0].astype(str))\n",
    "wordCloud=WordCloud(width=1600,height=800,random_state=21,max_font_size=110)\n",
    "plt.figure(figsize=(15,10))\n",
    "plt.imshow(wordCloud.generate(consolidated),interpolation='bilinear')\n",
    "plt.axis('off')\n",
    "plt.show("
   ]
  },
  {
   "cell_type": "code",
   "execution_count": null,
   "id": "e880f118-6895-47d3-868d-fe4d66710fd7",
   "metadata": {},
   "outputs": [],
   "source": []
  },
  {
   "cell_type": "code",
   "execution_count": 33,
   "id": "f3a0a1dc-d579-43bc-9229-e779e3ea4c31",
   "metadata": {},
   "outputs": [],
   "source": [
    "#train test split\n",
    "from sklearn.model_selection import train_test_split\n",
    "X_train,X_test,y_train,y_test=train_test_split(df[\"reviewText\"], df[\"rating\"],test_size=0.2)"
   ]
  },
  {
   "cell_type": "code",
   "execution_count": 54,
   "id": "670eab3d-0f5b-4175-867f-998748af03b7",
   "metadata": {},
   "outputs": [],
   "source": [
    "from sklearn.feature_extraction.text import CountVectorizer\n",
    "bow=CountVectorizer()\n",
    "X_train_bow=bow.fit_transform(X_train).toarray()\n",
    "X_test_bow=bow.transform(X_test).toarray()"
   ]
  },
  {
   "cell_type": "code",
   "execution_count": 55,
   "id": "72e3fa5a-a358-401e-93d5-f01bbee70e5f",
   "metadata": {},
   "outputs": [],
   "source": [
    "from sklearn.feature_extraction.text import TfidfVectorizer\n",
    "tfidf=CountVectorizer()\n",
    "X_train_tfidf=tfidf.fit_transform(X_train).toarray()\n",
    "X_test_tfidf=tfidf.transform(X_test).toarray()"
   ]
  },
  {
   "cell_type": "code",
   "execution_count": 56,
   "id": "9aea86c2-8a42-4bed-9895-57a427c03992",
   "metadata": {},
   "outputs": [
    {
     "data": {
      "text/plain": [
       "array([[0, 0, 0, ..., 0, 0, 0],\n",
       "       [0, 0, 0, ..., 0, 0, 0],\n",
       "       [0, 0, 0, ..., 0, 0, 0],\n",
       "       ...,\n",
       "       [0, 0, 0, ..., 0, 0, 0],\n",
       "       [0, 0, 0, ..., 0, 0, 0],\n",
       "       [0, 0, 0, ..., 0, 0, 0]], dtype=int64)"
      ]
     },
     "execution_count": 56,
     "metadata": {},
     "output_type": "execute_result"
    }
   ],
   "source": [
    "X_train_bow"
   ]
  },
  {
   "cell_type": "code",
   "execution_count": 57,
   "id": "f199e244-904f-4d75-aa6f-3a88408fa531",
   "metadata": {},
   "outputs": [
    {
     "data": {
      "text/plain": [
       "array([[0, 0, 0, ..., 0, 0, 0],\n",
       "       [0, 0, 0, ..., 0, 0, 0],\n",
       "       [0, 0, 0, ..., 0, 0, 0],\n",
       "       ...,\n",
       "       [0, 0, 0, ..., 0, 0, 0],\n",
       "       [0, 0, 0, ..., 0, 0, 0],\n",
       "       [0, 0, 0, ..., 0, 0, 0]], dtype=int64)"
      ]
     },
     "execution_count": 57,
     "metadata": {},
     "output_type": "execute_result"
    }
   ],
   "source": [
    "X_train_tfidf"
   ]
  },
  {
   "cell_type": "code",
   "execution_count": 58,
   "id": "7c374406-6843-441c-9bbf-aea419916d4f",
   "metadata": {},
   "outputs": [],
   "source": [
    "from sklearn.naive_bayes import GaussianNB\n",
    "nb_model_bow=GaussianNB().fit(X_train_bow,y_train)\n",
    "nb_model_tfidf=GaussianNB().fit(X_train_tfidf,y_train)"
   ]
  },
  {
   "cell_type": "code",
   "execution_count": 59,
   "id": "86b732b5-a683-4689-a634-e76a17cbf3f5",
   "metadata": {},
   "outputs": [],
   "source": [
    "from sklearn.metrics import confusion_matrix, accuracy_score, classification_report"
   ]
  },
  {
   "cell_type": "code",
   "execution_count": 60,
   "id": "84e1dcdd-6a8f-414e-a00d-c2635a2ff123",
   "metadata": {},
   "outputs": [],
   "source": [
    "y_pred_tfidf=nb_model_bow.predict(X_test_bow)"
   ]
  },
  {
   "cell_type": "code",
   "execution_count": 50,
   "id": "2814f47f-3e3f-4880-bd3c-9d7739f6ad6d",
   "metadata": {},
   "outputs": [],
   "source": [
    "y_pred_bow=nb_model_tfidf.predict(X_test_tfidf)"
   ]
  },
  {
   "cell_type": "code",
   "execution_count": 66,
   "id": "fd39847e-7891-40d6-b8b5-0ef1401ccc23",
   "metadata": {},
   "outputs": [
    {
     "name": "stdout",
     "output_type": "stream",
     "text": [
      "BOW accuracy: 0.60875\n",
      "BOW confusion matrix: [[563 246]\n",
      " [693 898]]\n"
     ]
    }
   ],
   "source": [
    "print(\"BOW accuracy:\",accuracy_score(y_test,y_pred_bow))\n",
    "print(\"BOW confusion matrix:\",confusion_matrix(y_test,y_pred_bow))\n",
    "# print(\"BOW classification report:\",classification_report(y_test,y_pred_bow))"
   ]
  },
  {
   "cell_type": "code",
   "execution_count": 67,
   "id": "3c82f616-f3e0-4c61-96a7-4a27581407f8",
   "metadata": {},
   "outputs": [
    {
     "name": "stdout",
     "output_type": "stream",
     "text": [
      "TFIDF accuracy: 0.60875\n",
      "TFIDF confusion matrix: [[563 246]\n",
      " [693 898]]\n"
     ]
    }
   ],
   "source": [
    "print(\"TFIDF accuracy:\",accuracy_score(y_test,y_pred_tfidf))\n",
    "print(\"TFIDF confusion matrix:\",confusion_matrix(y_test,y_pred_tfidf))"
   ]
  }
 ],
 "metadata": {
  "kernelspec": {
   "display_name": "Python 3 (ipykernel)",
   "language": "python",
   "name": "python3"
  },
  "language_info": {
   "codemirror_mode": {
    "name": "ipython",
    "version": 3
   },
   "file_extension": ".py",
   "mimetype": "text/x-python",
   "name": "python",
   "nbconvert_exporter": "python",
   "pygments_lexer": "ipython3",
   "version": "3.11.4"
  }
 },
 "nbformat": 4,
 "nbformat_minor": 5
}
